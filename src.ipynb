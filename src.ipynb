{
 "cells": [
  {
   "cell_type": "code",
   "execution_count": 18,
   "metadata": {},
   "outputs": [],
   "source": [
    "import mdl_ver"
   ]
  },
  {
   "cell_type": "code",
   "execution_count": 19,
   "metadata": {},
   "outputs": [],
   "source": [
    "from mdl_ver import MLOpsTool"
   ]
  },
  {
   "cell_type": "code",
   "execution_count": 20,
   "metadata": {},
   "outputs": [],
   "source": [
    "from mdl_ver import train_test_split"
   ]
  },
  {
   "cell_type": "code",
   "execution_count": 21,
   "metadata": {},
   "outputs": [],
   "source": [
    "import pandas as pd\n",
    "from sklearn.model_selection import train_test_split\n",
    "from sklearn.linear_model import LogisticRegression\n",
    "from sklearn.metrics import accuracy_score\n",
    "import joblib\n",
    "import os\n",
    "import git\n",
    "from sklearn.datasets import load_iris\n",
    "from flask import Flask, render_template, request, redirect, url_for"
   ]
  },
  {
   "cell_type": "code",
   "execution_count": 13,
   "metadata": {},
   "outputs": [
    {
     "name": "stdout",
     "output_type": "stream",
     "text": [
      "Model v1 Accuracy: 1.0\n",
      "Model v2 Accuracy: 1.0\n",
      "Model v1 Accuracy after rollback: 1.0\n"
     ]
    },
    {
     "name": "stderr",
     "output_type": "stream",
     "text": [
      "c:\\Users\\rickc\\AppData\\Local\\Programs\\Python\\Python311\\Lib\\site-packages\\sklearn\\linear_model\\_logistic.py:460: ConvergenceWarning: lbfgs failed to converge (status=1):\n",
      "STOP: TOTAL NO. of ITERATIONS REACHED LIMIT.\n",
      "\n",
      "Increase the number of iterations (max_iter) or scale the data as shown in:\n",
      "    https://scikit-learn.org/stable/modules/preprocessing.html\n",
      "Please also refer to the documentation for alternative solver options:\n",
      "    https://scikit-learn.org/stable/modules/linear_model.html#logistic-regression\n",
      "  n_iter_i = _check_optimize_result(\n",
      "c:\\Users\\rickc\\AppData\\Local\\Programs\\Python\\Python311\\Lib\\site-packages\\sklearn\\linear_model\\_logistic.py:460: ConvergenceWarning: lbfgs failed to converge (status=1):\n",
      "STOP: TOTAL NO. of ITERATIONS REACHED LIMIT.\n",
      "\n",
      "Increase the number of iterations (max_iter) or scale the data as shown in:\n",
      "    https://scikit-learn.org/stable/modules/preprocessing.html\n",
      "Please also refer to the documentation for alternative solver options:\n",
      "    https://scikit-learn.org/stable/modules/linear_model.html#logistic-regression\n",
      "  n_iter_i = _check_optimize_result(\n"
     ]
    }
   ],
   "source": [
    "# Load Iris dataset\n",
    "iris = load_iris()\n",
    "iris_data = pd.DataFrame(data=iris.data, columns=iris.feature_names)\n",
    "iris_data['target'] = iris.target\n",
    "\n",
    "X_train, X_test, y_train, y_test = train_test_split(iris_data.drop('target', axis=1), iris_data['target'], test_size=0.2, random_state=42)\n",
    "\n",
    "# Toy example with MLOpsTool\n",
    "mlops_tool = MLOpsTool()\n",
    "mlops_tool.initialize_repository()\n",
    "\n",
    "# Train and save model v1\n",
    "model_v1 = mlops_tool.train_model(X_train, y_train)\n",
    "mlops_tool.save_model(model_v1, version=1)\n",
    "accuracy_v1 = mlops_tool.evaluate_model(model_v1, X_test, y_test)\n",
    "print(f'Model v1 Accuracy: {accuracy_v1}')\n",
    "\n",
    "# Save dataset v1\n",
    "mlops_tool.save_dataset(iris_data, version=1)\n",
    "\n",
    "# Train and save model v2\n",
    "iris_data_v2 = iris_data.copy()\n",
    "iris_data_v2['target'] = iris_data_v2['target'].apply(lambda x: x + 1)  # Changing the target for v2\n",
    "X_train_v2, X_test_v2, y_train_v2, y_test_v2 = train_test_split(iris_data_v2.drop('target', axis=1), iris_data_v2['target'], test_size=0.2, random_state=42)\n",
    "model_v2 = mlops_tool.train_model(X_train_v2, y_train_v2)\n",
    "mlops_tool.save_model(model_v2, version=2)\n",
    "accuracy_v2 = mlops_tool.evaluate_model(model_v2, X_test_v2, y_test_v2)\n",
    "print(f'Model v2 Accuracy: {accuracy_v2}')\n",
    "\n",
    "# Save dataset v2\n",
    "mlops_tool.save_dataset(iris_data_v2, version=2)\n",
    "\n",
    "# Rollback to model v1\n",
    "mlops_tool.rollback(version=1)\n",
    "\n",
    "# Load and evaluate model v1 after rollback\n",
    "loaded_model_v1 = mlops_tool.load_model(version=1)\n",
    "if loaded_model_v1:\n",
    "    accuracy_after_rollback = mlops_tool.evaluate_model(loaded_model_v1, X_test, y_test)\n",
    "    print(f'Model v1 Accuracy after rollback: {accuracy_after_rollback}')"
   ]
  },
  {
   "cell_type": "code",
   "execution_count": null,
   "metadata": {},
   "outputs": [],
   "source": []
  }
 ],
 "metadata": {
  "kernelspec": {
   "display_name": "Python 3",
   "language": "python",
   "name": "python3"
  },
  "language_info": {
   "codemirror_mode": {
    "name": "ipython",
    "version": 3
   },
   "file_extension": ".py",
   "mimetype": "text/x-python",
   "name": "python",
   "nbconvert_exporter": "python",
   "pygments_lexer": "ipython3",
   "version": "3.11.5"
  }
 },
 "nbformat": 4,
 "nbformat_minor": 2
}
